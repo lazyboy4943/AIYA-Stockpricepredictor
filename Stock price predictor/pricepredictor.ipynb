{
 "cells": [
  {
   "cell_type": "code",
   "execution_count": 26,
   "metadata": {},
   "outputs": [],
   "source": [
    "# imports\n",
    "\n",
    "import pandas as pd\n",
    "import yfinance as yf\n",
    "import yahoofinancials as YahooFinancials\n",
    "from datetime import date, datetime, timedelta"
   ]
  },
  {
   "cell_type": "code",
   "execution_count": 27,
   "metadata": {},
   "outputs": [],
   "source": [
    "# Define the lookup for the stock (name, price, symbol)\n",
    "\n",
    "import requests\n",
    "import urllib.parse\n",
    "\n",
    "\n",
    "api_key = 'pk_35ab12ce73ea4cf38d7641e8d3b01de7'\n",
    "\n",
    "def lookup(symbol, api_key=\"pk_35ab12ce73ea4cf38d7641e8d3b01de7\"):\n",
    "    \"\"\"Look up quote for symbol.\"\"\"\n",
    "\n",
    "    # Contact API\n",
    "    try:\n",
    "        response = requests.get(\n",
    "            f\"https://cloud.iexapis.com/stable/stock/{urllib.parse.quote_plus(symbol)}/quote?token={api_key}\")\n",
    "        response.raise_for_status()\n",
    "    except requests.RequestException:\n",
    "        return None\n",
    "\n",
    "    # Parse response\n",
    "    try:\n",
    "        quote = response.json()\n",
    "        return {\n",
    "                \"name\": quote[\"companyName\"],\n",
    "                \"price\": float(quote[\"latestPrice\"]),\n",
    "                \"symbol\": quote[\"symbol\"]\n",
    "                }\n",
    "    except (KeyError, TypeError, ValueError):\n",
    "        return None\n"
   ]
  },
  {
   "cell_type": "code",
   "execution_count": 28,
   "metadata": {},
   "outputs": [],
   "source": [
    "# input the stock symbol\n",
    "\n",
    "symbol = input(\"Enter a stock symbol: \")"
   ]
  },
  {
   "cell_type": "code",
   "execution_count": 29,
   "metadata": {},
   "outputs": [
    {
     "name": "stdout",
     "output_type": "stream",
     "text": [
      "2022-03-28\n"
     ]
    }
   ],
   "source": [
    "# get todays date\n",
    "\n",
    "today = date.today()\n",
    "print(today)"
   ]
  },
  {
   "cell_type": "code",
   "execution_count": 30,
   "metadata": {},
   "outputs": [
    {
     "name": "stdout",
     "output_type": "stream",
     "text": [
      "{'name': 'Apple Inc', 'price': 174.72, 'symbol': 'AAPL'}\n"
     ]
    }
   ],
   "source": [
    "# print the lookup for the sumbol\n",
    "\n",
    "print(lookup(symbol))"
   ]
  },
  {
   "cell_type": "code",
   "execution_count": 31,
   "metadata": {},
   "outputs": [
    {
     "name": "stdout",
     "output_type": "stream",
     "text": [
      "2022-02-26 13:50:15.429374\n"
     ]
    }
   ],
   "source": [
    "# date mathematics\n",
    "# another import line because the code doesn't work without it\n",
    "\n",
    "from datetime import datetime, timedelta\n",
    "\n",
    "timedifference = input(\"Enter a time difference in months: \")\n",
    "timedifference = int(timedifference)\n",
    "\n",
    "# timedifference is the number of months\n",
    "timediffdays = timedifference * 30\n",
    "# timediffdays is the number of days\n",
    "\n",
    "startdate = datetime.today() - timedelta(days=timediffdays)\n",
    "print(startdate)\n"
   ]
  },
  {
   "cell_type": "code",
   "execution_count": 32,
   "metadata": {},
   "outputs": [
    {
     "data": {
      "text/html": [
       "<div>\n",
       "<style scoped>\n",
       "    .dataframe tbody tr th:only-of-type {\n",
       "        vertical-align: middle;\n",
       "    }\n",
       "\n",
       "    .dataframe tbody tr th {\n",
       "        vertical-align: top;\n",
       "    }\n",
       "\n",
       "    .dataframe thead th {\n",
       "        text-align: right;\n",
       "    }\n",
       "</style>\n",
       "<table border=\"1\" class=\"dataframe\">\n",
       "  <thead>\n",
       "    <tr style=\"text-align: right;\">\n",
       "      <th></th>\n",
       "      <th>Open</th>\n",
       "      <th>High</th>\n",
       "      <th>Low</th>\n",
       "      <th>Close</th>\n",
       "      <th>Adj Close</th>\n",
       "      <th>Volume</th>\n",
       "    </tr>\n",
       "    <tr>\n",
       "      <th>Date</th>\n",
       "      <th></th>\n",
       "      <th></th>\n",
       "      <th></th>\n",
       "      <th></th>\n",
       "      <th></th>\n",
       "      <th></th>\n",
       "    </tr>\n",
       "  </thead>\n",
       "  <tbody>\n",
       "    <tr>\n",
       "      <th>2022-02-28</th>\n",
       "      <td>163.059998</td>\n",
       "      <td>165.419998</td>\n",
       "      <td>162.429993</td>\n",
       "      <td>165.119995</td>\n",
       "      <td>165.119995</td>\n",
       "      <td>94869100</td>\n",
       "    </tr>\n",
       "    <tr>\n",
       "      <th>2022-03-01</th>\n",
       "      <td>164.699997</td>\n",
       "      <td>166.600006</td>\n",
       "      <td>161.970001</td>\n",
       "      <td>163.199997</td>\n",
       "      <td>163.199997</td>\n",
       "      <td>83474400</td>\n",
       "    </tr>\n",
       "    <tr>\n",
       "      <th>2022-03-02</th>\n",
       "      <td>164.389999</td>\n",
       "      <td>167.360001</td>\n",
       "      <td>162.949997</td>\n",
       "      <td>166.559998</td>\n",
       "      <td>166.559998</td>\n",
       "      <td>79724800</td>\n",
       "    </tr>\n",
       "    <tr>\n",
       "      <th>2022-03-03</th>\n",
       "      <td>168.470001</td>\n",
       "      <td>168.910004</td>\n",
       "      <td>165.550003</td>\n",
       "      <td>166.229996</td>\n",
       "      <td>166.229996</td>\n",
       "      <td>76678400</td>\n",
       "    </tr>\n",
       "    <tr>\n",
       "      <th>2022-03-04</th>\n",
       "      <td>164.490005</td>\n",
       "      <td>165.550003</td>\n",
       "      <td>162.100006</td>\n",
       "      <td>163.169998</td>\n",
       "      <td>163.169998</td>\n",
       "      <td>83737200</td>\n",
       "    </tr>\n",
       "  </tbody>\n",
       "</table>\n",
       "</div>"
      ],
      "text/plain": [
       "                  Open        High         Low       Close   Adj Close  \\\n",
       "Date                                                                     \n",
       "2022-02-28  163.059998  165.419998  162.429993  165.119995  165.119995   \n",
       "2022-03-01  164.699997  166.600006  161.970001  163.199997  163.199997   \n",
       "2022-03-02  164.389999  167.360001  162.949997  166.559998  166.559998   \n",
       "2022-03-03  168.470001  168.910004  165.550003  166.229996  166.229996   \n",
       "2022-03-04  164.490005  165.550003  162.100006  163.169998  163.169998   \n",
       "\n",
       "              Volume  \n",
       "Date                  \n",
       "2022-02-28  94869100  \n",
       "2022-03-01  83474400  \n",
       "2022-03-02  79724800  \n",
       "2022-03-03  76678400  \n",
       "2022-03-04  83737200  "
      ]
     },
     "execution_count": 32,
     "metadata": {},
     "output_type": "execute_result"
    }
   ],
   "source": [
    "# gets data from yahoo finance from a set date to today\n",
    "\n",
    "stock_df = yf.download(symbol, \n",
    "                      start=startdate, \n",
    "                      end=today, \n",
    "                      progress=False,\n",
    ")\n",
    "stock_df.head()"
   ]
  },
  {
   "cell_type": "code",
   "execution_count": 33,
   "metadata": {},
   "outputs": [
    {
     "name": "stdout",
     "output_type": "stream",
     "text": [
      "[[163.05999755859375, 165.4199981689453, 162.42999267578125, 165.1199951171875, 165.1199951171875, 94869100.0], [164.6999969482422, 166.60000610351562, 161.97000122070312, 163.1999969482422, 163.1999969482422, 83474400.0], [164.38999938964844, 167.36000061035156, 162.9499969482422, 166.55999755859375, 166.55999755859375, 79724800.0], [168.47000122070312, 168.91000366210938, 165.5500030517578, 166.22999572753906, 166.22999572753906, 76678400.0], [164.49000549316406, 165.5500030517578, 162.10000610351562, 163.1699981689453, 163.1699981689453, 83737200.0], [163.36000061035156, 165.02000427246094, 159.0399932861328, 159.3000030517578, 159.3000030517578, 96418800.0], [158.82000732421875, 162.8800048828125, 155.8000030517578, 157.44000244140625, 157.44000244140625, 131148300.0], [161.47999572753906, 163.41000366210938, 159.41000366210938, 162.9499969482422, 162.9499969482422, 91454900.0], [160.1999969482422, 160.38999938964844, 155.97999572753906, 158.52000427246094, 158.52000427246094, 105342000.0], [158.92999267578125, 159.27999877929688, 154.5, 154.72999572753906, 154.72999572753906, 96836300.0], [151.4499969482422, 154.1199951171875, 150.10000610351562, 150.6199951171875, 150.6199951171875, 108732100.0], [150.89999389648438, 155.57000732421875, 150.3800048828125, 155.08999633789062, 155.08999633789062, 92964300.0], [157.0500030517578, 160.0, 154.4600067138672, 159.58999633789062, 159.58999633789062, 102300200.0], [158.61000061035156, 161.0, 157.6300048828125, 160.6199951171875, 160.6199951171875, 75615400.0], [160.50999450683594, 164.47999572753906, 159.75999450683594, 163.97999572753906, 163.97999572753906, 123351200.0], [163.50999450683594, 166.35000610351562, 163.00999450683594, 165.3800048828125, 165.3800048828125, 95811400.0], [165.50999450683594, 169.4199981689453, 164.91000366210938, 168.82000732421875, 168.82000732421875, 81532000.0], [167.99000549316406, 172.63999938964844, 167.64999389648438, 170.2100067138672, 170.2100067138672, 98062700.0], [171.05999755859375, 174.13999938964844, 170.2100067138672, 174.07000732421875, 174.07000732421875, 90131400.0], [173.8800048828125, 175.27999877929688, 172.75, 174.72000122070312, 174.72000122070312, 80470700.0]]\n"
     ]
    }
   ],
   "source": [
    "stock_values_list = stock_df.values.tolist()\n",
    "print(stock_values_list)\n",
    "\n",
    "# list of lists of data in the form [[open, high, low, close, volume, adj close]]"
   ]
  }
 ],
 "metadata": {
  "interpreter": {
   "hash": "92c058864445db8eb42202efd32adcdea7f0c593b8014ba9b1ed48eb43425b8d"
  },
  "kernelspec": {
   "display_name": "Python 3.9.1 ('env': venv)",
   "language": "python",
   "name": "python3"
  },
  "language_info": {
   "codemirror_mode": {
    "name": "ipython",
    "version": 3
   },
   "file_extension": ".py",
   "mimetype": "text/x-python",
   "name": "python",
   "nbconvert_exporter": "python",
   "pygments_lexer": "ipython3",
   "version": "3.9.1"
  },
  "orig_nbformat": 4
 },
 "nbformat": 4,
 "nbformat_minor": 2
}
