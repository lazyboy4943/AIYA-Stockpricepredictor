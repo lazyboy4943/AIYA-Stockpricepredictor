{
 "cells": [
  {
   "cell_type": "code",
   "execution_count": 28,
   "metadata": {},
   "outputs": [],
   "source": [
    "# imports\n",
    "\n",
    "import pandas as pd\n",
    "import yfinance as yf\n",
    "import yahoofinancials as YahooFinancials\n",
    "from datetime import date, datetime, timedelta\n",
    "\n",
    "import tensorflow as tf\n",
    "from tensorflow.python.keras.models import Sequential\n",
    "from tensorflow.python.keras.layers import Dense , Dropout , LSTM, CuDNNLSTM"
   ]
  },
  {
   "cell_type": "code",
   "execution_count": 29,
   "metadata": {},
   "outputs": [],
   "source": [
    "# Define the lookup for the stock (name, price, symbol)\n",
    "\n",
    "import requests\n",
    "import urllib.parse\n",
    "\n",
    "\n",
    "api_key = 'pk_35ab12ce73ea4cf38d7641e8d3b01de7'\n",
    "\n",
    "def lookup(symbol, api_key=\"pk_35ab12ce73ea4cf38d7641e8d3b01de7\"):\n",
    "    \"\"\"Look up quote for symbol.\"\"\"\n",
    "\n",
    "    # Contact API\n",
    "    try:\n",
    "        response = requests.get(\n",
    "            f\"https://cloud.iexapis.com/stable/stock/{urllib.parse.quote_plus(symbol)}/quote?token={api_key}\")\n",
    "        response.raise_for_status()\n",
    "    except requests.RequestException:\n",
    "        return None\n",
    "\n",
    "    # Parse response\n",
    "    try:\n",
    "        quote = response.json()\n",
    "        return {\n",
    "                \"name\": quote[\"companyName\"],\n",
    "                \"price\": float(quote[\"latestPrice\"]),\n",
    "                \"symbol\": quote[\"symbol\"]\n",
    "                }\n",
    "    except (KeyError, TypeError, ValueError):\n",
    "        return None\n"
   ]
  },
  {
   "cell_type": "code",
   "execution_count": 30,
   "metadata": {},
   "outputs": [],
   "source": [
    "# input the stock symbol\n",
    "\n",
    "symbol = input(\"Enter a stock symbol: \")"
   ]
  },
  {
   "cell_type": "code",
   "execution_count": 31,
   "metadata": {},
   "outputs": [
    {
     "name": "stdout",
     "output_type": "stream",
     "text": [
      "2022-04-07\n"
     ]
    }
   ],
   "source": [
    "# get todays date\n",
    "\n",
    "today = date.today()\n",
    "print(today)"
   ]
  },
  {
   "cell_type": "code",
   "execution_count": 32,
   "metadata": {},
   "outputs": [
    {
     "name": "stdout",
     "output_type": "stream",
     "text": [
      "{'name': 'Apple Inc', 'price': 172.72, 'symbol': 'AAPL'}\n"
     ]
    }
   ],
   "source": [
    "# print the lookup for the sumbol\n",
    "\n",
    "print(lookup(symbol))"
   ]
  },
  {
   "cell_type": "code",
   "execution_count": 33,
   "metadata": {},
   "outputs": [
    {
     "name": "stdout",
     "output_type": "stream",
     "text": [
      "2022-03-08 22:03:48.848033\n"
     ]
    }
   ],
   "source": [
    "# date mathematics\n",
    "# another import line because the code doesn't work without it\n",
    "\n",
    "from datetime import datetime, timedelta\n",
    "\n",
    "timedifference = input(\"Enter a time difference in months: \")\n",
    "timedifference = int(timedifference)\n",
    "\n",
    "# timedifference is the number of months\n",
    "timediffdays = timedifference * 30\n",
    "# timediffdays is the number of days\n",
    "\n",
    "startdate = datetime.today() - timedelta(days=timediffdays)\n",
    "print(startdate)\n"
   ]
  },
  {
   "cell_type": "code",
   "execution_count": 38,
   "metadata": {},
   "outputs": [
    {
     "data": {
      "text/html": [
       "<div>\n",
       "<style scoped>\n",
       "    .dataframe tbody tr th:only-of-type {\n",
       "        vertical-align: middle;\n",
       "    }\n",
       "\n",
       "    .dataframe tbody tr th {\n",
       "        vertical-align: top;\n",
       "    }\n",
       "\n",
       "    .dataframe thead th {\n",
       "        text-align: right;\n",
       "    }\n",
       "</style>\n",
       "<table border=\"1\" class=\"dataframe\">\n",
       "  <thead>\n",
       "    <tr style=\"text-align: right;\">\n",
       "      <th></th>\n",
       "      <th>Open</th>\n",
       "    </tr>\n",
       "    <tr>\n",
       "      <th>Date</th>\n",
       "      <th></th>\n",
       "    </tr>\n",
       "  </thead>\n",
       "  <tbody>\n",
       "    <tr>\n",
       "      <th>2022-03-08</th>\n",
       "      <td>158.820007</td>\n",
       "    </tr>\n",
       "    <tr>\n",
       "      <th>2022-03-09</th>\n",
       "      <td>161.479996</td>\n",
       "    </tr>\n",
       "    <tr>\n",
       "      <th>2022-03-10</th>\n",
       "      <td>160.199997</td>\n",
       "    </tr>\n",
       "    <tr>\n",
       "      <th>2022-03-11</th>\n",
       "      <td>158.929993</td>\n",
       "    </tr>\n",
       "    <tr>\n",
       "      <th>2022-03-14</th>\n",
       "      <td>151.449997</td>\n",
       "    </tr>\n",
       "  </tbody>\n",
       "</table>\n",
       "</div>"
      ],
      "text/plain": [
       "                  Open\n",
       "Date                  \n",
       "2022-03-08  158.820007\n",
       "2022-03-09  161.479996\n",
       "2022-03-10  160.199997\n",
       "2022-03-11  158.929993\n",
       "2022-03-14  151.449997"
      ]
     },
     "execution_count": 38,
     "metadata": {},
     "output_type": "execute_result"
    }
   ],
   "source": [
    "# gets data from yahoo finance from a set date to today\n",
    "\n",
    "stock_df = yf.download(symbol, \n",
    "                      start=startdate, \n",
    "                      end=today, \n",
    "                      progress=False,\n",
    ")\n",
    "stock_df.drop(columns=['High', 'Low', 'Close', 'Adj Close', 'Volume'], inplace=True)\n",
    "stock_df.head()"
   ]
  },
  {
   "cell_type": "code",
   "execution_count": 35,
   "metadata": {},
   "outputs": [
    {
     "name": "stdout",
     "output_type": "stream",
     "text": [
      "[[158.82000732421875, 162.8800048828125, 155.8000030517578, 157.44000244140625, 157.44000244140625, 131148300.0], [161.47999572753906, 163.41000366210938, 159.41000366210938, 162.9499969482422, 162.9499969482422, 91454900.0], [160.1999969482422, 160.38999938964844, 155.97999572753906, 158.52000427246094, 158.52000427246094, 105342000.0], [158.92999267578125, 159.27999877929688, 154.5, 154.72999572753906, 154.72999572753906, 96836300.0], [151.4499969482422, 154.1199951171875, 150.10000610351562, 150.6199951171875, 150.6199951171875, 108732100.0], [150.89999389648438, 155.57000732421875, 150.3800048828125, 155.08999633789062, 155.08999633789062, 92964300.0], [157.0500030517578, 160.0, 154.4600067138672, 159.58999633789062, 159.58999633789062, 102300200.0], [158.61000061035156, 161.0, 157.6300048828125, 160.6199951171875, 160.6199951171875, 75615400.0], [160.50999450683594, 164.47999572753906, 159.75999450683594, 163.97999572753906, 163.97999572753906, 123351200.0], [163.50999450683594, 166.35000610351562, 163.00999450683594, 165.3800048828125, 165.3800048828125, 95811400.0], [165.50999450683594, 169.4199981689453, 164.91000366210938, 168.82000732421875, 168.82000732421875, 81532000.0], [167.99000549316406, 172.63999938964844, 167.64999389648438, 170.2100067138672, 170.2100067138672, 98062700.0], [171.05999755859375, 174.13999938964844, 170.2100067138672, 174.07000732421875, 174.07000732421875, 90131400.0], [173.8800048828125, 175.27999877929688, 172.75, 174.72000122070312, 174.72000122070312, 80546200.0], [172.1699981689453, 175.72999572753906, 172.0, 175.60000610351562, 175.60000610351562, 90371900.0], [176.69000244140625, 179.00999450683594, 176.33999633789062, 178.9600067138672, 178.9600067138672, 100589400.0], [178.5500030517578, 179.61000061035156, 176.6999969482422, 177.77000427246094, 177.77000427246094, 92633200.0], [177.83999633789062, 178.02999877929688, 174.39999389648438, 174.61000061035156, 174.61000061035156, 103049300.0], [174.02999877929688, 174.8800048828125, 171.94000244140625, 174.30999755859375, 174.30999755859375, 78699800.0], [174.57000732421875, 178.49000549316406, 174.44000244140625, 178.44000244140625, 178.44000244140625, 76468400.0], [177.5, 178.3000030517578, 174.4199981689453, 175.05999755859375, 175.05999755859375, 73401800.0], [172.36000061035156, 173.6300048828125, 170.1300048828125, 171.8300018310547, 171.8300018310547, 88950300.0]]\n"
     ]
    }
   ],
   "source": [
    "stock_values_list = stock_df.values.tolist()\n",
    "print(stock_values_list)\n",
    "\n",
    "# list of lists of data in the form [[open, high, low, close, volume, adj close]]"
   ]
  },
  {
   "cell_type": "code",
   "execution_count": 36,
   "metadata": {},
   "outputs": [
    {
     "name": "stdout",
     "output_type": "stream",
     "text": [
      "[158.82000732421875, 161.47999572753906, 160.1999969482422, 158.92999267578125, 151.4499969482422, 150.89999389648438, 157.0500030517578, 158.61000061035156, 160.50999450683594, 163.50999450683594, 165.50999450683594, 167.99000549316406, 171.05999755859375, 173.8800048828125, 172.1699981689453, 176.69000244140625, 178.5500030517578, 177.83999633789062, 174.02999877929688, 174.57000732421875, 177.5, 172.36000061035156]\n"
     ]
    }
   ],
   "source": [
    "# only keep the open price\n",
    "# we will predict the prices based on opening prices\n",
    "\n",
    "stock_open_list = []\n",
    "\n",
    "for valueset in stock_values_list:\n",
    "    stock_open_list.append(valueset[0])\n",
    "\n",
    "print(stock_open_list)"
   ]
  },
  {
   "cell_type": "code",
   "execution_count": 37,
   "metadata": {},
   "outputs": [
    {
     "ename": "AttributeError",
     "evalue": "'DataFrame' object has no attribute 'load_data'",
     "output_type": "error",
     "traceback": [
      "\u001b[1;31m---------------------------------------------------------------------------\u001b[0m",
      "\u001b[1;31mAttributeError\u001b[0m                            Traceback (most recent call last)",
      "\u001b[1;32mc:\\Programming\\Python\\AIYA\\AIYA-Stockpricepredictor-master\\Stock price predictor\\pricepredictor.ipynb Cell 10'\u001b[0m in \u001b[0;36m<cell line: 3>\u001b[1;34m()\u001b[0m\n\u001b[0;32m      <a href='vscode-notebook-cell:/c%3A/Programming/Python/AIYA/AIYA-Stockpricepredictor-master/Stock%20price%20predictor/pricepredictor.ipynb#ch0000010?line=0'>1</a>\u001b[0m mnist \u001b[39m=\u001b[39m tf\u001b[39m.\u001b[39mkeras\u001b[39m.\u001b[39mdatasets\u001b[39m.\u001b[39mmnist\n\u001b[0;32m      <a href='vscode-notebook-cell:/c%3A/Programming/Python/AIYA/AIYA-Stockpricepredictor-master/Stock%20price%20predictor/pricepredictor.ipynb#ch0000010?line=1'>2</a>\u001b[0m mnist \u001b[39m=\u001b[39m stock_df\n\u001b[1;32m----> <a href='vscode-notebook-cell:/c%3A/Programming/Python/AIYA/AIYA-Stockpricepredictor-master/Stock%20price%20predictor/pricepredictor.ipynb#ch0000010?line=2'>3</a>\u001b[0m (x_train,y_train),(x_test , y_test) \u001b[39m=\u001b[39m mnist\u001b[39m.\u001b[39;49mload_data()\n\u001b[0;32m      <a href='vscode-notebook-cell:/c%3A/Programming/Python/AIYA/AIYA-Stockpricepredictor-master/Stock%20price%20predictor/pricepredictor.ipynb#ch0000010?line=4'>5</a>\u001b[0m x_train \u001b[39m=\u001b[39m x_train\u001b[39m/\u001b[39m\u001b[39m255.0\u001b[39m\n\u001b[0;32m      <a href='vscode-notebook-cell:/c%3A/Programming/Python/AIYA/AIYA-Stockpricepredictor-master/Stock%20price%20predictor/pricepredictor.ipynb#ch0000010?line=5'>6</a>\u001b[0m y_train \u001b[39m=\u001b[39m y_train \u001b[39m/\u001b[39m \u001b[39m255.0\u001b[39m\n",
      "File \u001b[1;32mc:\\Programming\\Python\\AIYA\\AIYA-Stockpricepredictor-master\\env\\lib\\site-packages\\pandas\\core\\generic.py:5575\u001b[0m, in \u001b[0;36mNDFrame.__getattr__\u001b[1;34m(self, name)\u001b[0m\n\u001b[0;32m   <a href='file:///c%3A/Programming/Python/AIYA/AIYA-Stockpricepredictor-master/env/lib/site-packages/pandas/core/generic.py?line=5567'>5568</a>\u001b[0m \u001b[39mif\u001b[39;00m (\n\u001b[0;32m   <a href='file:///c%3A/Programming/Python/AIYA/AIYA-Stockpricepredictor-master/env/lib/site-packages/pandas/core/generic.py?line=5568'>5569</a>\u001b[0m     name \u001b[39mnot\u001b[39;00m \u001b[39min\u001b[39;00m \u001b[39mself\u001b[39m\u001b[39m.\u001b[39m_internal_names_set\n\u001b[0;32m   <a href='file:///c%3A/Programming/Python/AIYA/AIYA-Stockpricepredictor-master/env/lib/site-packages/pandas/core/generic.py?line=5569'>5570</a>\u001b[0m     \u001b[39mand\u001b[39;00m name \u001b[39mnot\u001b[39;00m \u001b[39min\u001b[39;00m \u001b[39mself\u001b[39m\u001b[39m.\u001b[39m_metadata\n\u001b[0;32m   <a href='file:///c%3A/Programming/Python/AIYA/AIYA-Stockpricepredictor-master/env/lib/site-packages/pandas/core/generic.py?line=5570'>5571</a>\u001b[0m     \u001b[39mand\u001b[39;00m name \u001b[39mnot\u001b[39;00m \u001b[39min\u001b[39;00m \u001b[39mself\u001b[39m\u001b[39m.\u001b[39m_accessors\n\u001b[0;32m   <a href='file:///c%3A/Programming/Python/AIYA/AIYA-Stockpricepredictor-master/env/lib/site-packages/pandas/core/generic.py?line=5571'>5572</a>\u001b[0m     \u001b[39mand\u001b[39;00m \u001b[39mself\u001b[39m\u001b[39m.\u001b[39m_info_axis\u001b[39m.\u001b[39m_can_hold_identifiers_and_holds_name(name)\n\u001b[0;32m   <a href='file:///c%3A/Programming/Python/AIYA/AIYA-Stockpricepredictor-master/env/lib/site-packages/pandas/core/generic.py?line=5572'>5573</a>\u001b[0m ):\n\u001b[0;32m   <a href='file:///c%3A/Programming/Python/AIYA/AIYA-Stockpricepredictor-master/env/lib/site-packages/pandas/core/generic.py?line=5573'>5574</a>\u001b[0m     \u001b[39mreturn\u001b[39;00m \u001b[39mself\u001b[39m[name]\n\u001b[1;32m-> <a href='file:///c%3A/Programming/Python/AIYA/AIYA-Stockpricepredictor-master/env/lib/site-packages/pandas/core/generic.py?line=5574'>5575</a>\u001b[0m \u001b[39mreturn\u001b[39;00m \u001b[39mobject\u001b[39;49m\u001b[39m.\u001b[39;49m\u001b[39m__getattribute__\u001b[39;49m(\u001b[39mself\u001b[39;49m, name)\n",
      "\u001b[1;31mAttributeError\u001b[0m: 'DataFrame' object has no attribute 'load_data'"
     ]
    }
   ],
   "source": [
    "\n",
    "mnist = tf.keras.datasets.mnist\n",
    "mnist = stock_df\n",
    "(x_train,y_train),(x_test , y_test) = mnist.load_data()\n",
    "\n",
    "x_train = x_train/255.0\n",
    "y_train = y_train / 255.0\n",
    "model=Sequential()\n",
    "\n",
    "model.add(CuDNNLSTM(128 , input_shape=(x_train.shape[1:]), return_sequences = True))\n",
    "model.add(Dropout(0.2))\n",
    "\n",
    "model.add(CuDNNLSTM(128))\n",
    "model.add(Dropout(0.2))\n",
    "\n",
    "model.add(Dense(32 , activation='relu'))\n",
    "model.add(Dropout(0.2))\n",
    "\n",
    "model.add(Dense(10, activation = 'softmax'))\n",
    "opt = tf.keras.optimizers.Adam (lr=1e-3 , decay=1e-5)\n",
    "\n",
    "model.compile(loss = 'sparse_categorical_crossentropy', optimizer = opt, metrics =['accuracy'])\n",
    "\n",
    "model.fit(x_train , y_train , epochs = 3 , validation_data = (x_test,y_test))\n"
   ]
  }
 ],
 "metadata": {
  "interpreter": {
   "hash": "92c058864445db8eb42202efd32adcdea7f0c593b8014ba9b1ed48eb43425b8d"
  },
  "kernelspec": {
   "display_name": "Python 3.9.1 ('env': venv)",
   "language": "python",
   "name": "python3"
  },
  "language_info": {
   "codemirror_mode": {
    "name": "ipython",
    "version": 3
   },
   "file_extension": ".py",
   "mimetype": "text/x-python",
   "name": "python",
   "nbconvert_exporter": "python",
   "pygments_lexer": "ipython3",
   "version": "3.10.4"
  },
  "orig_nbformat": 4
 },
 "nbformat": 4,
 "nbformat_minor": 2
}
