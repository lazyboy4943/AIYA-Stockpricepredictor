{
 "cells": [
  {
   "cell_type": "code",
   "execution_count": 599,
   "metadata": {},
   "outputs": [],
   "source": [
    "# imports\n",
    "\n",
    "import pandas as pd\n",
    "import yfinance as yf\n",
    "import yahoofinancials as YahooFinancials\n",
    "from datetime import date, datetime, timedelta\n",
    "import plotly\n",
    "import os\n",
    "import matplotlib.pyplot as plt\n",
    "\n",
    "\n",
    "import numpy as np\n",
    "import tensorflow as tf\n",
    "from tensorflow.python.keras.models import Sequential\n",
    "from tensorflow.python.keras.layers import Dense , Dropout , LSTM, CuDNNLSTM\n",
    "from keras.preprocessing.sequence import TimeseriesGenerator"
   ]
  },
  {
   "cell_type": "code",
   "execution_count": 600,
   "metadata": {},
   "outputs": [],
   "source": [
    "# Define the lookup for the stock (name, price, symbol)\n",
    "\n",
    "import requests\n",
    "import urllib.parse\n",
    "\n",
    "\n",
    "api_key = 'pk_35ab12ce73ea4cf38d7641e8d3b01de7'\n",
    "\n",
    "def lookup(symbol, api_key=\"pk_35ab12ce73ea4cf38d7641e8d3b01de7\"):\n",
    "    \"\"\"Look up quote for symbol.\"\"\"\n",
    "\n",
    "    # Contact API\n",
    "    try:\n",
    "        response = requests.get(\n",
    "            f\"https://cloud.iexapis.com/stable/stock/{urllib.parse.quote_plus(symbol)}/quote?token={api_key}\")\n",
    "        response.raise_for_status()\n",
    "    except requests.RequestException:\n",
    "        return None\n",
    "\n",
    "    # Parse response\n",
    "    try:\n",
    "        quote = response.json()\n",
    "        return {\n",
    "                \"name\": quote[\"companyName\"],\n",
    "                \"price\": float(quote[\"latestPrice\"]),\n",
    "                \"symbol\": quote[\"symbol\"]\n",
    "                }\n",
    "    except (KeyError, TypeError, ValueError):\n",
    "        return None\n"
   ]
  },
  {
   "cell_type": "code",
   "execution_count": 601,
   "metadata": {},
   "outputs": [],
   "source": [
    "# input the stock symbol\n",
    "\n",
    "symbol = input(\"Enter a stock symbol: \")"
   ]
  },
  {
   "cell_type": "code",
   "execution_count": 602,
   "metadata": {},
   "outputs": [
    {
     "name": "stdout",
     "output_type": "stream",
     "text": [
      "2022-04-09\n"
     ]
    }
   ],
   "source": [
    "# get todays date\n",
    "\n",
    "today = date.today()\n",
    "print(today)"
   ]
  },
  {
   "cell_type": "code",
   "execution_count": 603,
   "metadata": {},
   "outputs": [
    {
     "name": "stdout",
     "output_type": "stream",
     "text": [
      "{'name': 'Apple Inc', 'price': 170.09, 'symbol': 'AAPL'}\n"
     ]
    }
   ],
   "source": [
    "# print the lookup for the sumbol\n",
    "\n",
    "print(lookup(symbol))"
   ]
  },
  {
   "cell_type": "code",
   "execution_count": 604,
   "metadata": {},
   "outputs": [
    {
     "name": "stdout",
     "output_type": "stream",
     "text": [
      "2002-07-23 11:09:54.149702\n"
     ]
    }
   ],
   "source": [
    "# date mathematics\n",
    "# another import line because the code doesn't work without it\n",
    "\n",
    "from datetime import datetime, timedelta\n",
    "\n",
    "timedifference = input(\"Enter a time difference in months: \")\n",
    "timedifference = int(timedifference)\n",
    "\n",
    "# timedifference is the number of months\n",
    "timediffdays = timedifference * 30\n",
    "# timediffdays is the number of days\n",
    "\n",
    "startdate = datetime.today() - timedelta(days=timediffdays)\n",
    "print(startdate)\n"
   ]
  },
  {
   "cell_type": "code",
   "execution_count": 605,
   "metadata": {},
   "outputs": [
    {
     "data": {
      "text/html": [
       "<div>\n",
       "<style scoped>\n",
       "    .dataframe tbody tr th:only-of-type {\n",
       "        vertical-align: middle;\n",
       "    }\n",
       "\n",
       "    .dataframe tbody tr th {\n",
       "        vertical-align: top;\n",
       "    }\n",
       "\n",
       "    .dataframe thead th {\n",
       "        text-align: right;\n",
       "    }\n",
       "</style>\n",
       "<table border=\"1\" class=\"dataframe\">\n",
       "  <thead>\n",
       "    <tr style=\"text-align: right;\">\n",
       "      <th></th>\n",
       "      <th>Open</th>\n",
       "      <th>High</th>\n",
       "      <th>Low</th>\n",
       "      <th>Close</th>\n",
       "      <th>Adj Close</th>\n",
       "      <th>Volume</th>\n",
       "    </tr>\n",
       "    <tr>\n",
       "      <th>Date</th>\n",
       "      <th></th>\n",
       "      <th></th>\n",
       "      <th></th>\n",
       "      <th></th>\n",
       "      <th></th>\n",
       "      <th></th>\n",
       "    </tr>\n",
       "  </thead>\n",
       "  <tbody>\n",
       "    <tr>\n",
       "      <th>2002-07-23</th>\n",
       "      <td>0.266071</td>\n",
       "      <td>0.270179</td>\n",
       "      <td>0.257857</td>\n",
       "      <td>0.258393</td>\n",
       "      <td>0.221255</td>\n",
       "      <td>399890400</td>\n",
       "    </tr>\n",
       "    <tr>\n",
       "      <th>2002-07-24</th>\n",
       "      <td>0.255893</td>\n",
       "      <td>0.271786</td>\n",
       "      <td>0.254464</td>\n",
       "      <td>0.271429</td>\n",
       "      <td>0.232418</td>\n",
       "      <td>406593600</td>\n",
       "    </tr>\n",
       "    <tr>\n",
       "      <th>2002-07-25</th>\n",
       "      <td>0.266607</td>\n",
       "      <td>0.266964</td>\n",
       "      <td>0.250179</td>\n",
       "      <td>0.256429</td>\n",
       "      <td>0.219574</td>\n",
       "      <td>479354400</td>\n",
       "    </tr>\n",
       "    <tr>\n",
       "      <th>2002-07-26</th>\n",
       "      <td>0.258214</td>\n",
       "      <td>0.259464</td>\n",
       "      <td>0.246429</td>\n",
       "      <td>0.256071</td>\n",
       "      <td>0.219267</td>\n",
       "      <td>207704000</td>\n",
       "    </tr>\n",
       "    <tr>\n",
       "      <th>2002-07-29</th>\n",
       "      <td>0.258571</td>\n",
       "      <td>0.269643</td>\n",
       "      <td>0.256607</td>\n",
       "      <td>0.268214</td>\n",
       "      <td>0.229665</td>\n",
       "      <td>274960000</td>\n",
       "    </tr>\n",
       "  </tbody>\n",
       "</table>\n",
       "</div>"
      ],
      "text/plain": [
       "                Open      High       Low     Close  Adj Close     Volume\n",
       "Date                                                                    \n",
       "2002-07-23  0.266071  0.270179  0.257857  0.258393   0.221255  399890400\n",
       "2002-07-24  0.255893  0.271786  0.254464  0.271429   0.232418  406593600\n",
       "2002-07-25  0.266607  0.266964  0.250179  0.256429   0.219574  479354400\n",
       "2002-07-26  0.258214  0.259464  0.246429  0.256071   0.219267  207704000\n",
       "2002-07-29  0.258571  0.269643  0.256607  0.268214   0.229665  274960000"
      ]
     },
     "execution_count": 605,
     "metadata": {},
     "output_type": "execute_result"
    }
   ],
   "source": [
    "# gets data from yahoo finance from a set date to today\n",
    "\n",
    "stock_df = yf.download(symbol, \n",
    "                      start=startdate, \n",
    "                      end=today, \n",
    "                      progress=False,\n",
    ")\n",
    "#stock_df.drop(columns=['High', 'Low', 'Close', 'Adj Close', 'Volume'], inplace=True)\n",
    "stock_df.head()"
   ]
  },
  {
   "cell_type": "code",
   "execution_count": 606,
   "metadata": {},
   "outputs": [],
   "source": [
    "# turn datafram to csv\n",
    "# os.remove('data.csv')\n",
    "stock_df.to_csv('data.csv')"
   ]
  },
  {
   "cell_type": "code",
   "execution_count": 607,
   "metadata": {},
   "outputs": [
    {
     "name": "stdout",
     "output_type": "stream",
     "text": [
      "<class 'pandas.core.frame.DataFrame'>\n",
      "RangeIndex: 4965 entries, 0 to 4964\n",
      "Data columns (total 7 columns):\n",
      " #   Column     Non-Null Count  Dtype  \n",
      "---  ------     --------------  -----  \n",
      " 0   Date       4965 non-null   object \n",
      " 1   Open       4965 non-null   float64\n",
      " 2   High       4965 non-null   float64\n",
      " 3   Low        4965 non-null   float64\n",
      " 4   Close      4965 non-null   float64\n",
      " 5   Adj Close  4965 non-null   float64\n",
      " 6   Volume     4965 non-null   int64  \n",
      "dtypes: float64(5), int64(1), object(1)\n",
      "memory usage: 271.6+ KB\n",
      "None\n"
     ]
    }
   ],
   "source": [
    "filename = \"data.csv\"\n",
    "df = pd.read_csv(filename)\n",
    "print(df.info())\n",
    "\n"
   ]
  },
  {
   "cell_type": "code",
   "execution_count": 608,
   "metadata": {},
   "outputs": [
    {
     "data": {
      "text/html": [
       "<div>\n",
       "<style scoped>\n",
       "    .dataframe tbody tr th:only-of-type {\n",
       "        vertical-align: middle;\n",
       "    }\n",
       "\n",
       "    .dataframe tbody tr th {\n",
       "        vertical-align: top;\n",
       "    }\n",
       "\n",
       "    .dataframe thead th {\n",
       "        text-align: right;\n",
       "    }\n",
       "</style>\n",
       "<table border=\"1\" class=\"dataframe\">\n",
       "  <thead>\n",
       "    <tr style=\"text-align: right;\">\n",
       "      <th></th>\n",
       "      <th>Open</th>\n",
       "      <th>Close</th>\n",
       "    </tr>\n",
       "    <tr>\n",
       "      <th>Date</th>\n",
       "      <th></th>\n",
       "      <th></th>\n",
       "    </tr>\n",
       "  </thead>\n",
       "  <tbody>\n",
       "    <tr>\n",
       "      <th>2002-07-23</th>\n",
       "      <td>0.266071</td>\n",
       "      <td>0.258393</td>\n",
       "    </tr>\n",
       "    <tr>\n",
       "      <th>2002-07-24</th>\n",
       "      <td>0.255893</td>\n",
       "      <td>0.271429</td>\n",
       "    </tr>\n",
       "    <tr>\n",
       "      <th>2002-07-25</th>\n",
       "      <td>0.266607</td>\n",
       "      <td>0.256429</td>\n",
       "    </tr>\n",
       "    <tr>\n",
       "      <th>2002-07-26</th>\n",
       "      <td>0.258214</td>\n",
       "      <td>0.256071</td>\n",
       "    </tr>\n",
       "    <tr>\n",
       "      <th>2002-07-29</th>\n",
       "      <td>0.258571</td>\n",
       "      <td>0.268214</td>\n",
       "    </tr>\n",
       "  </tbody>\n",
       "</table>\n",
       "</div>"
      ],
      "text/plain": [
       "                Open     Close\n",
       "Date                          \n",
       "2002-07-23  0.266071  0.258393\n",
       "2002-07-24  0.255893  0.271429\n",
       "2002-07-25  0.266607  0.256429\n",
       "2002-07-26  0.258214  0.256071\n",
       "2002-07-29  0.258571  0.268214"
      ]
     },
     "execution_count": 608,
     "metadata": {},
     "output_type": "execute_result"
    }
   ],
   "source": [
    "stock_data = stock_df\n",
    "stock_data.drop(columns=['High', 'Low', 'Adj Close', 'Volume'], inplace=True)\n",
    "stock_data.head()"
   ]
  },
  {
   "cell_type": "code",
   "execution_count": 609,
   "metadata": {},
   "outputs": [
    {
     "data": {
      "text/plain": [
       "<AxesSubplot:>"
      ]
     },
     "execution_count": 609,
     "metadata": {},
     "output_type": "execute_result"
    },
    {
     "data": {
      "image/png": "[encoded data removed]",
      "text/plain": [
       "<Figure size 432x288 with 1 Axes>"
      ]
     },
     "metadata": {
      "needs_background": "light"
     },
     "output_type": "display_data"
    }
   ],
   "source": [
    "df1 = df.reset_index()['Close']\n",
    "df1.plot()"
   ]
  },
  {
   "cell_type": "code",
   "execution_count": 610,
   "metadata": {},
   "outputs": [],
   "source": [
    "from sklearn.preprocessing import MinMaxScaler\n",
    "scaler=MinMaxScaler(feature_range=(0,1))\n",
    "df1=scaler.fit_transform(np.array(df1).reshape(-1,1))"
   ]
  },
  {
   "cell_type": "code",
   "execution_count": 611,
   "metadata": {},
   "outputs": [],
   "source": [
    "training_size=int(len(df1)*0.85)\n",
    "test_size=len(df1)-training_size\n",
    "train_data,test_data=df1[0:training_size,:],df1[training_size:len(df1),:1]\n",
    "\n",
    "#print(train_data)"
   ]
  },
  {
   "cell_type": "code",
   "execution_count": 612,
   "metadata": {},
   "outputs": [],
   "source": [
    "import numpy\n",
    "def create_dataset(dataset, time_step=1):\n",
    "    dataX, dataY = [], []\n",
    "    for i in range(len(dataset)-time_step-1):\n",
    "        a = dataset[i:(i+time_step), 0]\n",
    "        dataX.append(a)\n",
    "        dataY.append(dataset[i + time_step, 0])\n",
    "    return numpy.array(dataX), numpy.array(dataY)\n",
    "time_step = 100\n",
    "\n",
    "X_train, y_train = create_dataset(train_data, time_step)\n",
    "X_test, ytest = create_dataset(test_data, time_step)"
   ]
  },
  {
   "cell_type": "code",
   "execution_count": 613,
   "metadata": {},
   "outputs": [
    {
     "name": "stdout",
     "output_type": "stream",
     "text": [
      "[[[1.32619449e-04]\n",
      "  [2.04334271e-04]\n",
      "  [1.21814909e-04]\n",
      "  ...\n",
      "  [1.60126012e-04]\n",
      "  [2.12190151e-04]\n",
      "  [2.32819950e-04]]\n",
      "\n",
      " [[2.04334271e-04]\n",
      "  [1.21814909e-04]\n",
      "  [1.19845529e-04]\n",
      "  ...\n",
      "  [2.12190151e-04]\n",
      "  [2.32819950e-04]\n",
      "  [2.03349581e-04]]\n",
      "\n",
      " [[1.21814909e-04]\n",
      "  [1.19845529e-04]\n",
      "  [1.86647557e-04]\n",
      "  ...\n",
      "  [2.32819950e-04]\n",
      "  [2.03349581e-04]\n",
      "  [1.64053788e-04]]\n",
      "\n",
      " ...\n",
      "\n",
      " [[2.38869721e-01]\n",
      "  [2.38347113e-01]\n",
      "  [2.47561762e-01]\n",
      "  ...\n",
      "  [2.78080144e-01]\n",
      "  [2.79084123e-01]\n",
      "  [2.80005586e-01]]\n",
      "\n",
      " [[2.38347113e-01]\n",
      "  [2.47561762e-01]\n",
      "  [2.45650066e-01]\n",
      "  ...\n",
      "  [2.79084123e-01]\n",
      "  [2.80005586e-01]\n",
      "  [2.84062779e-01]]\n",
      "\n",
      " [[2.47561762e-01]\n",
      "  [2.45650066e-01]\n",
      "  [2.44316003e-01]\n",
      "  ...\n",
      "  [2.80005586e-01]\n",
      "  [2.84062779e-01]\n",
      "  [2.83622687e-01]]]\n"
     ]
    }
   ],
   "source": [
    "\n",
    "X_train =X_train.reshape(X_train.shape[0],X_train.shape[1] , 1)\n",
    "X_test = X_test.reshape(X_test.shape[0],X_test.shape[1] , 1)\n",
    "\n",
    "print(X_train)"
   ]
  },
  {
   "cell_type": "code",
   "execution_count": 620,
   "metadata": {},
   "outputs": [],
   "source": [
    "model=Sequential()\n",
    "model.add(LSTM(50,return_sequences=True,input_shape=(time_step,1)))\n",
    "model.add(LSTM(50,return_sequences=True))\n",
    "model.add(LSTM(50))\n",
    "model.add(Dense(1))\n",
    "model.compile(loss='mean_squared_error',optimizer='adam')"
   ]
  },
  {
   "cell_type": "code",
   "execution_count": 621,
   "metadata": {},
   "outputs": [],
   "source": [
    "train_predict=model.predict(X_train)\n",
    "test_predict=model.predict(X_test)\n",
    "train_predict=scaler.inverse_transform(train_predict)\n",
    "test_predict=scaler.inverse_transform(test_predict)"
   ]
  },
  {
   "cell_type": "code",
   "execution_count": 622,
   "metadata": {},
   "outputs": [
    {
     "data": {
      "text/plain": [
       "1.1163406829564178"
      ]
     },
     "execution_count": 622,
     "metadata": {},
     "output_type": "execute_result"
    }
   ],
   "source": [
    "import math\n",
    "from sklearn.metrics import mean_squared_error\n",
    "math.sqrt(mean_squared_error(y_train,train_predict))"
   ]
  },
  {
   "cell_type": "code",
   "execution_count": 623,
   "metadata": {},
   "outputs": [
    {
     "data": {
      "text/plain": [
       "[<matplotlib.lines.Line2D at 0x1ed9894f730>]"
      ]
     },
     "execution_count": 623,
     "metadata": {},
     "output_type": "execute_result"
    },
    {
     "data": {
      "image/png": "[encoded data removed]",
      "text/plain": [
       "<Figure size 432x288 with 1 Axes>"
      ]
     },
     "metadata": {
      "needs_background": "light"
     },
     "output_type": "display_data"
    }
   ],
   "source": [
    "\n",
    "plt.plot(train_data)\n",
    "\n"
   ]
  },
  {
   "cell_type": "code",
   "execution_count": 624,
   "metadata": {},
   "outputs": [
    {
     "data": {
      "text/plain": [
       "[<matplotlib.lines.Line2D at 0x1ed989a2020>]"
      ]
     },
     "execution_count": 624,
     "metadata": {},
     "output_type": "execute_result"
    },
    {
     "data": {
      "image/png": "[encoded data removed]",
      "text/plain": [
       "<Figure size 432x288 with 1 Axes>"
      ]
     },
     "metadata": {
      "needs_background": "light"
     },
     "output_type": "display_data"
    }
   ],
   "source": [
    "\n",
    "plt.plot(train_predict)"
   ]
  },
  {
   "cell_type": "code",
   "execution_count": 626,
   "metadata": {},
   "outputs": [
    {
     "name": "stdout",
     "output_type": "stream",
     "text": [
      "8.469805\n"
     ]
    },
    {
     "data": {
      "text/plain": [
       "[<matplotlib.lines.Line2D at 0x1ed998946a0>]"
      ]
     },
     "execution_count": 626,
     "metadata": {},
     "output_type": "execute_result"
    },
    {
     "data": {
      "image/png": "[encoded data removed]",
      "text/plain": [
       "<Figure size 432x288 with 1 Axes>"
      ]
     },
     "metadata": {
      "needs_background": "light"
     },
     "output_type": "display_data"
    }
   ],
   "source": [
    "#test_data = scaler(test_data)\n",
    "testpredictmax = numpy.amax(test_predict)\n",
    "print(testpredictmax)\n",
    "\n",
    "\n",
    "plt.plot(test_data[100:])\n",
    "plt.plot(test_predict/testpredictmax)"
   ]
  }
 ],
 "metadata": {
  "interpreter": {
   "hash": "92c058864445db8eb42202efd32adcdea7f0c593b8014ba9b1ed48eb43425b8d"
  },
  "kernelspec": {
   "display_name": "Python 3.9.1 ('env': venv)",
   "language": "python",
   "name": "python3"
  },
  "language_info": {
   "codemirror_mode": {
    "name": "ipython",
    "version": 3
   },
   "file_extension": ".py",
   "mimetype": "text/x-python",
   "name": "python",
   "nbconvert_exporter": "python",
   "pygments_lexer": "ipython3",
   "version": "3.10.4"
  },
  "orig_nbformat": 4
 },
 "nbformat": 4,
 "nbformat_minor": 2
}
